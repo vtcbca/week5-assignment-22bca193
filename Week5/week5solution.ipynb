{
 "cells": [
  {
   "cell_type": "code",
   "execution_count": 1,
   "id": "12d46961",
   "metadata": {},
   "outputs": [],
   "source": [
    "import csv"
   ]
  },
  {
   "cell_type": "code",
   "execution_count": 2,
   "id": "aae8a18f",
   "metadata": {},
   "outputs": [],
   "source": [
    "a=['sid','sname','city','contact']"
   ]
  },
  {
   "cell_type": "code",
   "execution_count": 3,
   "id": "c6cf4012",
   "metadata": {},
   "outputs": [],
   "source": [
    "records=[[1,'shiv','surat',9874561232],\n",
    "         [2,'neel','bharuch',9785361889],\n",
    "         [3,'raj','valod',8141596173],\n",
    "         [4,'ved','bardoli',9634283010],\n",
    "         [5,'meet','baroda',9930452161]]\n",
    "p=[]"
   ]
  },
  {
   "cell_type": "code",
   "execution_count": 4,
   "id": "cec24629",
   "metadata": {},
   "outputs": [
    {
     "name": "stdout",
     "output_type": "stream",
     "text": [
      "enter student id:6\n",
      "enter student name:om\n",
      "enter student city:surat\n",
      "enter student contact number:9632587412\n",
      "enter student id:7\n",
      "enter student name:bhavik\n",
      "enter student city:mandvi\n",
      "enter student contact number:9654783275\n",
      "enter student id:8\n",
      "enter student name:jugal\n",
      "enter student city:valod\n",
      "enter student contact number:8576941329\n",
      "enter student id:9\n",
      "enter student name:jenil\n",
      "enter student city:bardoli\n",
      "enter student contact number:7894561237\n",
      "enter student id:10\n",
      "enter student name:vihan\n",
      "enter student city:surat\n",
      "enter student contact number:9513246976\n"
     ]
    }
   ],
   "source": [
    "for i in range(5):\n",
    "    sid=int(input(\"enter student id:\"))\n",
    "    sname=input(\"enter student name:\")\n",
    "    city=input(\"enter student city:\")\n",
    "    contact=int(input(\"enter student contact number:\"))\n",
    "    l=[sid,sname,city,contact]\n",
    "    p.append(l)"
   ]
  },
  {
   "cell_type": "code",
   "execution_count": 5,
   "id": "5b32964c",
   "metadata": {},
   "outputs": [],
   "source": [
    "with open('C:\\sqlite3\\student.csv','w',newline='') as f:\n",
    "    file=csv.writer(f)\n",
    "    file.writerow(a)\n",
    "    file.writerows(records)\n",
    "    file.writerows(p)"
   ]
  },
  {
   "cell_type": "code",
   "execution_count": 6,
   "id": "a706ceac",
   "metadata": {},
   "outputs": [
    {
     "name": "stdout",
     "output_type": "stream",
     "text": [
      "['sid', 'sname', 'city', 'contact']\n",
      "['1', 'shiv', 'surat', '9874561232']\n",
      "['2', 'neel', 'bharuch', '9785361889']\n",
      "['3', 'raj', 'valod', '8141596173']\n",
      "['4', 'ved', 'bardoli', '9634283010']\n",
      "['5', 'meet', 'baroda', '9930452161']\n",
      "['6', 'om', 'surat', '9632587412']\n",
      "['7', 'bhavik', 'mandvi', '9654783275']\n",
      "['8', 'jugal', 'valod', '8576941329']\n",
      "['9', 'jenil', 'bardoli', '7894561237']\n",
      "['10', 'vihan', 'surat', '9513246976']\n"
     ]
    }
   ],
   "source": [
    "with open('C:\\sqlite3\\student.csv','r',newline='') as read:\n",
    "    all_record=csv.reader(read)\n",
    "    for records in all_record:\n",
    "        print(records)"
   ]
  },
  {
   "cell_type": "code",
   "execution_count": null,
   "id": "8b001c89",
   "metadata": {},
   "outputs": [],
   "source": []
  },
  {
   "cell_type": "code",
   "execution_count": null,
   "id": "ef39cde8",
   "metadata": {},
   "outputs": [],
   "source": []
  }
 ],
 "metadata": {
  "kernelspec": {
   "display_name": "Python 3 (ipykernel)",
   "language": "python",
   "name": "python3"
  },
  "language_info": {
   "codemirror_mode": {
    "name": "ipython",
    "version": 3
   },
   "file_extension": ".py",
   "mimetype": "text/x-python",
   "name": "python",
   "nbconvert_exporter": "python",
   "pygments_lexer": "ipython3",
   "version": "3.11.4"
  }
 },
 "nbformat": 4,
 "nbformat_minor": 5
}
